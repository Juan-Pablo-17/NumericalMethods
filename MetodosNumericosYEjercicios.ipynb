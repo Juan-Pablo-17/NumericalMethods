{
 "cells": [
  {
   "attachments": {},
   "cell_type": "markdown",
   "metadata": {},
   "source": [
    "# &#128060; Códigos Métodos Numéricos &#128060; "
   ]
  },
  {
   "attachments": {},
   "cell_type": "markdown",
   "metadata": {},
   "source": [
    "## Método de la Bisección"
   ]
  },
  {
   "attachments": {},
   "cell_type": "markdown",
   "metadata": {},
   "source": [
    "### 1. Ejemplo\n",
    "Aproxime la raíz de $f(x) = e^{-x}-ln(x)=0$ mediante 5 iteraciones del método de la bisección en el intervalo $[1,2]$: Halle $E_a(\\%)$ y $|f(x_1)|$ "
   ]
  },
  {
   "cell_type": "code",
   "execution_count": 2,
   "metadata": {},
   "outputs": [
    {
     "name": "stdout",
     "output_type": "stream",
     "text": [
      "La aproximación a la raíz de la función en el intervalo ( 1.0 , 2.0 ) es:  1.3097991943359375\n",
      "\n",
      "Evaluando la aproximación de la raiz en la función nos da:  4.0452363309073647e-07 apróximadamente: 0\n"
     ]
    }
   ],
   "source": [
    "#------------------------------------------------------------------------------------------\n",
    "### Importación de librerías ###\n",
    "#------------------------------------------------------------------------------------------\n",
    "\n",
    "import math\n",
    "\n",
    "#------------------------------------------------------------------------------------------\n",
    "### Método de la bisección ###\n",
    "#------------------------------------------------------------------------------------------\n",
    "\n",
    "def MetodoBiseccion(f, a, b, tolerancia):\n",
    "\n",
    "  diferencia = 1\n",
    "\n",
    "  while(diferencia > tolerancia):\n",
    "    x_r = (a+b)/2\n",
    "    d = f(a) * f(x_r)\n",
    "    if(d < 0):\n",
    "      b = x_r\n",
    "    else:\n",
    "      d = f(x_r) * f(b)\n",
    "      if(d < 0):\n",
    "        a = x_r\n",
    "    diferencia = abs(a - b)\n",
    "  return(a)\n",
    "\n",
    "#------------------------------------------------------------------------------------------\n",
    "### Función 1 ###\n",
    "#------------------------------------------------------------------------------------------\n",
    "\n",
    "def f_1(x):\n",
    "  return(math.exp(-x) - math.log(x))\n",
    "\n",
    "#------------------------------------------------------------------------------------------\n",
    "### Solicitar al usuario los valores del intervalo y la tolerancia que desee ###\n",
    "#------------------------------------------------------------------------------------------\n",
    "\n",
    "A = float(input(\"Ingrese el valor del extremo izquierdo del intervalo.\"))\n",
    "B = float(input(\"Ingrese el valor del extremo derecho del intervalo.\"))\n",
    "Tolerancia = float(input(\"Ingrese la tolerancia que desea.\"))\n",
    "\n",
    "#------------------------------------------------------------------------------------------\n",
    "### Llamando la función ###\n",
    "#------------------------------------------------------------------------------------------\n",
    "\n",
    "Raiz = MetodoBiseccion(f_1, A, B, Tolerancia)\n",
    "\n",
    "Eval = f_1(Raiz)\n",
    "\n",
    "#------------------------------------------------------------------------------------------\n",
    "### Imprimir ###\n",
    "#------------------------------------------------------------------------------------------\n",
    "\n",
    "print(\"La aproximación a la raíz de la función en el intervalo (\", A,  \",\",  B, \") es: \", Raiz )\n",
    "\n",
    "print()\n",
    "\n",
    "print(\"Evaluando la aproximación de la raiz en la función nos da: \", f_1(Raiz), \"apróximadamente:\", round(f_1(Raiz)))\n"
   ]
  },
  {
   "attachments": {},
   "cell_type": "markdown",
   "metadata": {},
   "source": [
    "## Método de la Falasa Posición"
   ]
  },
  {
   "attachments": {},
   "cell_type": "markdown",
   "metadata": {},
   "source": [
    "### Ejemplo 1\n",
    "\n",
    "Use el método de la falsa posición para hallar la raíz de la función utilizada en el ejemplo anterior"
   ]
  },
  {
   "cell_type": "code",
   "execution_count": 10,
   "metadata": {},
   "outputs": [
    {
     "name": "stdout",
     "output_type": "stream",
     "text": [
      "La aproximación a la raíz de la función en el intervalo ( 1.0 , 2.0 ) es:  1.3097995858061449\n",
      "\n",
      "Evaluando la aproximación de la raiz en la función nos da:  -2.060851489460447e-12 apróximadamente: 0\n"
     ]
    }
   ],
   "source": [
    "#------------------------------------------------------------------------------------------\n",
    "### Importación de librerías ###\n",
    "#------------------------------------------------------------------------------------------\n",
    "\n",
    "import numpy as np\n",
    "\n",
    "#------------------------------------------------------------------------------------------\n",
    "### Método de la Falsa Posición ###\n",
    "#------------------------------------------------------------------------------------------\n",
    "\n",
    "def MetodoFalsaPosicion(f, a, b, tolerancia):\n",
    "    diferencia = abs(a-b)\n",
    "\n",
    "    while (diferencia > tolerancia):\n",
    "        fa = f(a)\n",
    "        fb = f(b)\n",
    "        x_r = b + fb*(b - a)/(fa - fb)\n",
    "        fx_r = f(x_r)\n",
    "        cambio = np.sign(fa) * np.sign(fx_r)\n",
    "        if(cambio > 0):\n",
    "            diferencia = abs(x_r - a)\n",
    "            a = x_r\n",
    "        else:\n",
    "            diferencia = abs(b - x_r)\n",
    "            b = x_r\n",
    "    return(x_r)\n",
    "\n",
    "#------------------------------------------------------------------------------------------\n",
    "### Defino la Función ###\n",
    "#------------------------------------------------------------------------------------------\n",
    "\n",
    "def f_1(x):\n",
    "    g = np.exp(-x) - np.log(x)\n",
    "    return(g)\n",
    "\n",
    "#------------------------------------------------------------------------------------------\n",
    "### Solicitar al usuario los valores del intervalo y la tolerancia que desee ###\n",
    "#------------------------------------------------------------------------------------------\n",
    "\n",
    "A = float(input(\"Ingrese el valor del extremo izquierdo del intervalo.\"))\n",
    "B = float(input(\"Ingrese el valor del extremo derecho del intervalo.\"))\n",
    "Tolerancia = float(input(\"Ingrese la tolerancia que desea.\"))\n",
    "\n",
    "#------------------------------------------------------------------------------------------\n",
    "### Llamando la función ###\n",
    "#------------------------------------------------------------------------------------------\n",
    "\n",
    "Raiz = MetodoFalsaPosicion(f_1, A, B, Tolerancia)\n",
    "\n",
    "Eval = f_1(Raiz)\n",
    "\n",
    "#------------------------------------------------------------------------------------------\n",
    "### Imprimir ###\n",
    "#------------------------------------------------------------------------------------------\n",
    "\n",
    "print(\"La aproximación a la raíz de la función en el intervalo (\", A,  \",\",  B, \") es: \", Raiz )\n",
    "\n",
    "print()\n",
    "\n",
    "print(\"Evaluando la aproximación de la raiz en la función nos da: \", f_1(Raiz), \"apróximadamente:\", round(f_1(Raiz)))\n"
   ]
  },
  {
   "attachments": {},
   "cell_type": "markdown",
   "metadata": {},
   "source": [
    "## Método del Punto Fijo "
   ]
  },
  {
   "attachments": {},
   "cell_type": "markdown",
   "metadata": {},
   "source": [
    "### 2. Ejemplo\n",
    "\n",
    "Use la iteración simple del punto fijo para localizar la raíz de $f(x) = e^{-x}-ln(x)$; con $x_0 = 1$"
   ]
  },
  {
   "cell_type": "code",
   "execution_count": 6,
   "metadata": {},
   "outputs": [
    {
     "name": "stdout",
     "output_type": "stream",
     "text": [
      "La aproximación a la raíz de la función por el método de punto fijo es:  1.3097995858041505\n",
      "\n",
      "Evaluando la aproximación de la raiz en la función nos da:  5.551115123125783e-17 apróximadamente: 0\n"
     ]
    }
   ],
   "source": [
    "#------------------------------------------------------------------------------------------\n",
    "### Importación de librerías ###\n",
    "#------------------------------------------------------------------------------------------\n",
    "\n",
    "import math\n",
    "\n",
    "#------------------------------------------------------------------------------------------\n",
    "### Método del Punto Fijo ###\n",
    "#------------------------------------------------------------------------------------------\n",
    "\n",
    "def MetodoPuntoFijo(f, x_0, iteraciones = 1):\n",
    "    i = 0\n",
    "    while(i <= iteraciones):\n",
    "        g_x = f(x_0) + x_0\n",
    "        i += 1\n",
    "        x_0 = g_x\n",
    "    return(g_x)\n",
    "        \n",
    "#------------------------------------------------------------------------------------------\n",
    "### Función 1 ###\n",
    "#------------------------------------------------------------------------------------------\n",
    "\n",
    "def f_1(x):\n",
    "  return(math.exp(-x) - math.log(x))\n",
    "\n",
    "#------------------------------------------------------------------------------------------\n",
    "### Solicitar al usuario los valores del intervalo y la tolerancia que desee ###\n",
    "#------------------------------------------------------------------------------------------\n",
    "\n",
    "x0 = float(input(\"Ingrese el valor de la primera apróximación a la raíz. x_0 =\"))\n",
    "\n",
    "Iteraciones = int(input(\"¿Cuántas iteraciones desea que el programa realice?\"))\n",
    "\n",
    "#------------------------------------------------------------------------------------------\n",
    "### Llamando la función ###\n",
    "#------------------------------------------------------------------------------------------\n",
    "\n",
    "Raiz = MetodoPuntoFijo(f_1, x0, Iteraciones)\n",
    "\n",
    "Eval = f_1(Raiz)\n",
    "\n",
    "#------------------------------------------------------------------------------------------\n",
    "### Imprimir ###\n",
    "#------------------------------------------------------------------------------------------\n",
    "\n",
    "print(\"La aproximación a la raíz de la función por el método de punto fijo es: \", Raiz )\n",
    "\n",
    "print()\n",
    "\n",
    "print(\"Evaluando la aproximación de la raiz en la función nos da: \", f_1(Raiz), \"apróximadamente:\", round(f_1(Raiz)))"
   ]
  },
  {
   "attachments": {},
   "cell_type": "markdown",
   "metadata": {},
   "source": [
    "## Método de Newton-Raphson 💻"
   ]
  },
  {
   "attachments": {},
   "cell_type": "markdown",
   "metadata": {},
   "source": [
    "### Ejemplo 1\n",
    "\n",
    "Use el método de Newton-Raphson para determinar una raíz de la función $f(x) = e^{-x}+x-2$ . Con $x_0 = 1$ Realice 6 iteraciones y halle $|f(x_r)|$ y $E_a(\\%)$"
   ]
  },
  {
   "cell_type": "code",
   "execution_count": null,
   "metadata": {},
   "outputs": [],
   "source": [
    "#------------------------------------------------------------------------------------------\n",
    "### Importación de librerías ###\n",
    "#------------------------------------------------------------------------------------------\n",
    "\n",
    "import numpy as np\n",
    "import sympy as sp\n",
    "\n",
    "#------------------------------------------------------------------------------------------\n",
    "### Método Newton Raphson ###\n",
    "#------------------------------------------------------------------------------------------\n",
    "\n",
    "def MetodoNR(f, df, x_0, iteraciones = 1):\n",
    "    i = 0\n",
    "    while(i <= iteraciones):\n",
    "      x_n = x_0 - f(x_0)/df(x_0)\n",
    "      i += 1\n",
    "      x_0 = x_n\n",
    "    return(x_n)\n",
    "\n",
    "#------------------------------------------------------------------------------------------\n",
    "### Definiendo las Funciones f(x) y f'(x) ###\n",
    "#------------------------------------------------------------------------------------------\n",
    "def f_1(x):\n",
    "  return(np.exp(-x) + x - 2)\n",
    "\n",
    "def df_1(x):\n",
    "  return(-(np.exp(-x)) + 1)\n",
    "\n",
    "#------------------------------------------------------------------------------------------\n",
    "### Solicitar al usuario los valores del intervalo y la tolerancia que desee ###\n",
    "#------------------------------------------------------------------------------------------\n",
    "\n",
    "x0 = float(input(\"Ingrese el valor de x_0\"))\n",
    "\n",
    "Iteraciones = int(input(\"¿Cuántas iteraciones desea que realice el programa?\"))\n",
    "\n",
    "#------------------------------------------------------------------------------------------\n",
    "### Llamando la función ###\n",
    "#------------------------------------------------------------------------------------------\n",
    "\n",
    "Raiz = MetodoNR(f_1, df_1, x0, Iteraciones)\n",
    "\n",
    "Eval = f_1(Raiz)\n",
    "\n",
    "#------------------------------------------------------------------------------------------\n",
    "### Imprimir ###\n",
    "#------------------------------------------------------------------------------------------\n",
    "\n",
    "print(\"La apróximación a la raíz de la función es: \", Raiz)\n",
    "\n",
    "print()\n",
    "\n",
    "print(\"La aproximación a la raíz evaluada en la función es:\", f_1(Raiz), \"apróximadamente: \", round(f_1(Raiz)))"
   ]
  },
  {
   "attachments": {},
   "cell_type": "markdown",
   "metadata": {},
   "source": [
    "## Método de la Secante 🚀"
   ]
  },
  {
   "attachments": {},
   "cell_type": "markdown",
   "metadata": {},
   "source": [
    "### Ejemplo 1\n",
    "\n",
    "Use el método de la Secante para apróximar la raíz de $f(x) = e^{-x} + x + 2$ tomando como condiciones iniciales $x_{-1}= 2,2$ y $x_0 = 2$\n",
    "\n",
    "¡Número máximo de iteraciones = 5, debido a que a partir de este valor el computador considera la raíz como NaN porque es muy pequeño!"
   ]
  },
  {
   "cell_type": "code",
   "execution_count": 35,
   "metadata": {},
   "outputs": [
    {
     "name": "stdout",
     "output_type": "stream",
     "text": [
      "La apróximación a la raíz de la función es:  1.8414056604371016\n",
      "\n",
      "La aproximación a la raíz evaluada en la función es: 1.1857181902996672e-13 apróximadamente:  0\n"
     ]
    },
    {
     "data": {
      "image/png": "[encoded data removed]",
      "text/plain": [
       "<Figure size 640x480 with 1 Axes>"
      ]
     },
     "metadata": {},
     "output_type": "display_data"
    }
   ],
   "source": [
    "#------------------------------------------------------------------------------------------\n",
    "### Importación de librerías ###\n",
    "#------------------------------------------------------------------------------------------\n",
    "\n",
    "import numpy as np\n",
    "import sympy as sp\n",
    "import matplotlib.pyplot as plt\n",
    "\n",
    "#------------------------------------------------------------------------------------------\n",
    "### Método la Secante ###\n",
    "#------------------------------------------------------------------------------------------\n",
    "\n",
    "def MetodoSecante(f, x_00, x_01, iteraciones = 1):\n",
    "    i = 0\n",
    "    while(i <= iteraciones):\n",
    "      x_n = x_01 - (f(x_01)*(x_00 - x_01))/(f(x_00) - f(x_01))\n",
    "      i += 1\n",
    "      x_00 = x_01\n",
    "      x_01 = x_n\n",
    "    return(x_n)\n",
    "\n",
    "#------------------------------------------------------------------------------------------\n",
    "### Definiendo las Función f(x) ###\n",
    "#------------------------------------------------------------------------------------------\n",
    "def f_1(x):\n",
    "  return(np.exp(-x) + x - 2)\n",
    "\n",
    "#------------------------------------------------------------------------------------------\n",
    "### Solicitar al usuario los datos ###\n",
    "#------------------------------------------------------------------------------------------\n",
    "\n",
    "#x00 = float(input(\"Ingrese el valor de x_i-1\"))\n",
    "\n",
    "#x01 = float(input(\"Ingrese el valor de x_i\"))\n",
    "\n",
    "#Iteraciones = int(input(\"¿Cuántas iteraciones desea que realice el programa?\"))\n",
    "\n",
    "#------------------------------------------------------------------------------------------\n",
    "### Llamando la función ###\n",
    "#------------------------------------------------------------------------------------------\n",
    "\n",
    "#Raiz = MetodoSecante(f_1, x00, x01, Iteraciones)\n",
    "Raiz = MetodoSecante(f_1, 2.2, 2, 3)\n",
    "\n",
    "Eval = f_1(Raiz)\n",
    "\n",
    "#------------------------------------------------------------------------------------------\n",
    "### Imprimir ###\n",
    "#------------------------------------------------------------------------------------------\n",
    "\n",
    "print(\"La apróximación a la raíz de la función es: \", Raiz)\n",
    "\n",
    "print()\n",
    "\n",
    "print(\"La aproximación a la raíz evaluada en la función es:\", f_1(Raiz), \"apróximadamente: \", round(f_1(Raiz)))\n",
    "\n",
    "#------------------------------------------------------------------------------------------\n",
    "### Gráficas ###\n",
    "#------------------------------------------------------------------------------------------\n",
    "\n",
    "## Definiendo las gráficas\n",
    "\n",
    "fig_1 = plt.figure(\"Método de la Secante\")\n",
    "\n",
    "ax1 = fig_1.add_subplot()\n",
    "\n",
    "## Llamo la función a graficar\n",
    "\n",
    "x = np.linspace(-5, 5, 1000)\n",
    "\n",
    "## Grafica de la Función\n",
    "\n",
    "ax1.plot(x, f_1(x), \"r\", label = \"$f(x) = e^{-x} + x - 2$\")      #Función \n",
    "ax1.plot(Raiz, Eval, marker = \"o\", color = \"b\", label = \"$P$\")   #Raíz aproximada de la función\n",
    "\n",
    "v = [-4,4,-2,2]         #Acotamiento de la gráfica para x, y\n",
    "\n",
    "#Detalles de la gráfica\n",
    "\n",
    "plt.subplot()\n",
    "plt.xlabel(\"Eje x\")\n",
    "plt.ylabel(\"Eje y\")\n",
    "plt.title(\"Aproximación a la raíz de la función\")\n",
    "plt.grid()\n",
    "plt.axis(v)\n",
    "plt.text(1,1, \"$P=$Raíz apróximada\")\n",
    "plt.text(Raiz + 0.3, Eval + 0.3 , \"$Raíz=P$\", color=\"b\")\n",
    "plt.legend(loc=1)\n",
    "\n",
    "plt.tight_layout()\n",
    "plt.show()"
   ]
  }
 ],
 "metadata": {
  "kernelspec": {
   "display_name": "Python 3",
   "language": "python",
   "name": "python3"
  },
  "language_info": {
   "codemirror_mode": {
    "name": "ipython",
    "version": 3
   },
   "file_extension": ".py",
   "mimetype": "text/x-python",
   "name": "python",
   "nbconvert_exporter": "python",
   "pygments_lexer": "ipython3",
   "version": "3.10.10"
  },
  "orig_nbformat": 4,
  "vscode": {
   "interpreter": {
    "hash": "23f823caeccb1684f6bd50492b68bb5eab208de0408f39b2457c6a38c0e8e818"
   }
  }
 },
 "nbformat": 4,
 "nbformat_minor": 2
}
